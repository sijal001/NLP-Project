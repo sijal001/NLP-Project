{
 "cells": [
  {
   "source": [
    "## Getting the data  "
   ],
   "cell_type": "markdown",
   "metadata": {}
  },
  {
   "cell_type": "code",
   "execution_count": 33,
   "id": "5c2b341c",
   "metadata": {},
   "outputs": [],
   "source": [
    "import bs4 as bs\n",
    "import urllib.request\n",
    "import re"
   ]
  },
  {
   "cell_type": "code",
   "execution_count": 42,
   "id": "97763381",
   "metadata": {},
   "outputs": [],
   "source": [
    "# url_link = input(\"Link: \")\n",
    "url_link = \"https://www.gutenberg.org/cache/epub/103/pg103.txt\"\n",
    "\n",
    "#url_link = \"https://www.nytimes.com/2021/05/01/us/susan-wright-sixth-district-texas.html\""
   ]
  },
  {
   "cell_type": "code",
   "execution_count": 43,
   "metadata": {},
   "outputs": [],
   "source": [
    "source = urllib.request.urlopen(url_link)"
   ]
  },
  {
   "cell_type": "code",
   "execution_count": 44,
   "metadata": {},
   "outputs": [],
   "source": [
    "soup = bs.BeautifulSoup(source, 'lxml')"
   ]
  },
  {
   "cell_type": "code",
   "execution_count": 45,
   "metadata": {},
   "outputs": [],
   "source": [
    "text = \"\"\n",
    "for paragraph in soup.find_all('p'):\n",
    "    text += paragraph.text"
   ]
  },
  {
   "cell_type": "code",
   "execution_count": 48,
   "metadata": {},
   "outputs": [
    {
     "output_type": "execute_result",
     "data": {
      "text/plain": [
       "398637"
      ]
     },
     "metadata": {},
     "execution_count": 48
    }
   ],
   "source": [
    "len(text)"
   ]
  },
  {
   "cell_type": "code",
   "execution_count": 6,
   "metadata": {},
   "outputs": [
    {
     "output_type": "execute_result",
     "data": {
      "text/plain": [
       "'AdvertisementSupported byThe front runner was Susan Wright who was endorsed by Donald J. Trump and is the widow of Representative Ron Wright who died of Covid 19 in February.By David Montgomery and Edgar SandovalAUSTIN Texas Susan Wright the Republican widow of a congressman who died of Covid 19 emerged on Saturday evening as the front runner in a tight race to replace her husband in Washington.Still Ms. Wright whose husband Ron Wright died in February could not avoid a runoff for the state s Sixth Congressional District which includes mostly rural areas in three Northern Texas counties and a sliver of the nation s fourth largest metropolitan region around Dallas Fort Worth and Arlington.Ms. Wright who was assisted by a last minute endorsement from former President Donald J. Trump captured about 19 percent of the vote far below the 50 percent required to avoid a runoff. It appeared she was headed to another contest with Jake Ellzey a fellow Republican. Jana Lynne Sanchez a Democrat followed closely behind in third place.The results disappointed Democrats who had hoped to tap a reservoir of shifting demographics and Hispanic and African American growth in a district where Mr. Trump won by only three percentage points in November.Ms. Sanchez who ran a tight race against Mr. Wright in 2018 held an election gathering at her home in Fort Worth and vowed to keep fighting for progressive values. The Sixth District was once a Democratic stronghold until Phil Gramm switched party affiliations in 1983 turning the district into a reliable bastion of Republican strength for decades.In February Mr. Wright who had lung cancer died after he contracted the coronavirus. His wife was an early front runner to replace him but her chances of outright victory narrowed after the field grew to 23 candidates including 11 Republicans 10 Democrats a Libertarian and an independent.The battle took a bizarre turn in the final days when Ms. Wright s backers reported receiving anonymous robocalls that accused her of killing her husband. She immediately sought an investigation by the Federal Bureau of Investigation and the local authorities.Saturday s results signaled that Mr. Trump continued to have a hold on the Republican Party in Texas months after losing an election he falsely claimed had been stolen from him. Mr. Wright had been a vocal ally of Mr. Trump and a member of the conservative House Freedom Caucus.This is the second time that the widow of a member of Congress who died from Covid sought to keep her husband s seat. Last month Julia Letlow a Republican from Louisiana avoided a runoff when she secured the seat of her late husband Luke Letlow who died before having the chance to represent the district which includes much of the central part of the historically red state.In municipal races elsewhere in Texas the mayor of San Antonio Ron Nirenberg easily won a second term. And voters in Austin overwhelmingly favored reinstating a ban on public camping a decisive victory for those seeking to keep homeless people from erecting tents in certain spots across the city. Homelessness is a contested issue in the state capital and critics argued that the proposal to ban camping didn t offer alternatives to people with no place to sleep.Advertisement'"
      ]
     },
     "metadata": {},
     "execution_count": 6
    }
   ],
   "source": [
    "def clean_text(text):\n",
    "    \n",
    "    # remove reference citation\n",
    "    text = re.sub(r'\\[[0-9]*\\]', ' ', text)\n",
    "    # Removing the @\n",
    "    text = re.sub(r\"@[A-Za-z0-9]+\", ' ', text)\n",
    "    # Removing the URL links\n",
    "    text = re.sub(r\"https?://[A-Za-z0-9./]+\", ' ', text)\n",
    "    # Keeping only letters and numbers\n",
    "    text = re.sub(r\"[^a-zA-Z0-9.!?']\", ' ', text)\n",
    "    # Removing additional whitespaces\n",
    "    text = re.sub(r\" +\", ' ', text)\n",
    "\n",
    "    return text\n",
    "\n",
    "text = clean_text(text)\n",
    "\n",
    "text"
   ]
  },
  {
   "cell_type": "code",
   "execution_count": 7,
   "metadata": {},
   "outputs": [
    {
     "output_type": "stream",
     "name": "stderr",
     "text": [
      "[nltk_data] Downloading package punkt to\n[nltk_data]     C:\\Users\\sijal\\AppData\\Roaming\\nltk_data...\n[nltk_data]   Package punkt is already up-to-date!\n"
     ]
    },
    {
     "output_type": "execute_result",
     "data": {
      "text/plain": [
       "True"
      ]
     },
     "metadata": {},
     "execution_count": 7
    }
   ],
   "source": [
    "import nltk\n",
    "nltk.download('punkt')"
   ]
  },
  {
   "cell_type": "code",
   "execution_count": 8,
   "metadata": {},
   "outputs": [],
   "source": [
    "sentences = nltk.sent_tokenize(text)"
   ]
  },
  {
   "cell_type": "code",
   "execution_count": 9,
   "metadata": {},
   "outputs": [
    {
     "output_type": "execute_result",
     "data": {
      "text/plain": [
       "12"
      ]
     },
     "metadata": {},
     "execution_count": 9
    }
   ],
   "source": [
    "len(sentences)"
   ]
  },
  {
   "cell_type": "code",
   "execution_count": 10,
   "metadata": {},
   "outputs": [],
   "source": [
    "def paragraph_list(sentences, sentence_limit=6, type=\"book\"):\n",
    "    sentence_limit = sentence_limit\n",
    "    sentence_batch_lst = []\n",
    "    sentence_batch = []\n",
    "\n",
    "    # If book drop main two sentences that mostly contain acknowledgement and others\n",
    "    if type==\"book\":\n",
    "        for sentence in sentences[2:]:\n",
    "            if len(sentence_batch)==sentence_limit:\n",
    "                sentence_batch_lst.append(' '.join(sentence_batch))\n",
    "                sentence_batch = []\n",
    "            else:\n",
    "                sentence_batch.append(sentence)\n",
    "    else:\n",
    "        for sentence in sentences:\n",
    "        \n",
    "            if len(sentence_batch)==sentence_limit:\n",
    "                sentence_batch_lst.append(' '.join(sentence_batch))\n",
    "                sentence_batch = []\n",
    "            else:\n",
    "                sentence_batch.append(sentence)\n",
    "\n",
    "    if len(sentence_batch) > 0:\n",
    "            sentence_batch_lst.append(' '.join(sentence_batch))\n",
    "            sentence_batch = []\n",
    "    \n",
    "    return sentence_batch_lst\n",
    "    \n",
    "    "
   ]
  },
  {
   "cell_type": "code",
   "execution_count": 11,
   "metadata": {},
   "outputs": [],
   "source": [
    "paragraphs = paragraph_list(sentences)"
   ]
  },
  {
   "cell_type": "code",
   "execution_count": null,
   "id": "120d2ab1",
   "metadata": {},
   "outputs": [],
   "source": [
    "import pickle\n",
    "from flask import Flask, request, render_template\n",
    "from flasgger import Swagger\n",
    "import numpy as np\n",
    "import pandas as pd\n",
    "from transformers import pipeline, AutoModelForTokenClassification, AutoTokenizer\n",
    "\n",
    "app = Flask(__name__)\n",
    "model = pickle.load(open('rf.pkl', 'rb'))\n",
    "\n",
    "@app.route('/')\n",
    "def home():\n",
    "    return render_template('index.html')\n",
    "\n",
    "@app.route('/predict', methods=['POST'])\n",
    "def predict_iris():\n",
    "\n",
    "    int_features = [int(x) for x in request.form.values()]\n",
    "    final_features = [np.array(int_features)]\n",
    "    \n",
    "    prediction = model.predict(final_features)\n",
    "\n",
    "    return render_template('index.html', prediction_text='Type of the Iris is {}'.format(prediction[0]))\n",
    "\n",
    "if __name__ == '__main__':\n",
    "    app.run(debug=True)"
   ]
  },
  {
   "cell_type": "code",
   "execution_count": null,
   "id": "85708002",
   "metadata": {},
   "outputs": [],
   "source": []
  },
  {
   "cell_type": "code",
   "execution_count": null,
   "id": "189ce52b",
   "metadata": {},
   "outputs": [],
   "source": []
  },
  {
   "cell_type": "code",
   "execution_count": 12,
   "id": "418592a5",
   "metadata": {},
   "outputs": [],
   "source": [
    "from transformers import pipeline, AutoModelForTokenClassification, AutoTokenizer\n"
   ]
  },
  {
   "cell_type": "code",
   "execution_count": 5,
   "id": "1e321d9b",
   "metadata": {},
   "outputs": [],
   "source": [
    "body='''\n",
    "Versatile way to cleanse your face. Comes with 3 brush heads and I have sensitive skin so use it 1x per day instead of 2x with the brush for sensitive skin.\n",
    "If you have oily skin or skin with acne, it is recommended to clean the skin twice a day.\n",
    "My skin feels firmer, smoother and more radiant since I bought it.\n",
    "I use it in combination with Cerave cleanser for sensitive skin.\n",
    "Suitable for use in the shower. (Is splash proof.)\n",
    "I don't do that because washing your face with lukewarm water is better.\n",
    "Since I got it, I've only charged it once and the battery just keeps on working.\n",
    "Has a handy 3x 20 second timer so you never scrub your face for too long.\n",
    "(Left side of your face, right side and t-zone.)\n",
    "'''"
   ]
  },
  {
   "cell_type": "code",
   "execution_count": 13,
   "metadata": {},
   "outputs": [
    {
     "output_type": "execute_result",
     "data": {
      "text/plain": [
       "['It appeared she was headed to another contest with Jake Ellzey a fellow Republican. Jana Lynne Sanchez a Democrat followed closely behind in third place.The results disappointed Democrats who had hoped to tap a reservoir of shifting demographics and Hispanic and African American growth in a district where Mr. Trump won by only three percentage points in November.Ms. Sanchez who ran a tight race against Mr. Wright in 2018 held an election gathering at her home in Fort Worth and vowed to keep fighting for progressive values. The Sixth District was once a Democratic stronghold until Phil Gramm switched party affiliations in 1983 turning the district into a reliable bastion of Republican strength for decades.In February Mr. Wright who had lung cancer died after he contracted the coronavirus. His wife was an early front runner to replace him but her chances of outright victory narrowed after the field grew to 23 candidates including 11 Republicans 10 Democrats a Libertarian and an independent.The battle took a bizarre turn in the final days when Ms. Wright s backers reported receiving anonymous robocalls that accused her of killing her husband. She immediately sought an investigation by the Federal Bureau of Investigation and the local authorities.Saturday s results signaled that Mr. Trump continued to have a hold on the Republican Party in Texas months after losing an election he falsely claimed had been stolen from him.',\n",
       " 'Last month Julia Letlow a Republican from Louisiana avoided a runoff when she secured the seat of her late husband Luke Letlow who died before having the chance to represent the district which includes much of the central part of the historically red state.In municipal races elsewhere in Texas the mayor of San Antonio Ron Nirenberg easily won a second term. And voters in Austin overwhelmingly favored reinstating a ban on public camping a decisive victory for those seeking to keep homeless people from erecting tents in certain spots across the city. Homelessness is a contested issue in the state capital and critics argued that the proposal to ban camping didn t offer alternatives to people with no place to sleep.Advertisement']"
      ]
     },
     "metadata": {},
     "execution_count": 13
    }
   ],
   "source": [
    "paragraphs"
   ]
  },
  {
   "cell_type": "code",
   "execution_count": 14,
   "metadata": {},
   "outputs": [],
   "source": [
    "body = paragraphs[0]"
   ]
  },
  {
   "cell_type": "code",
   "execution_count": 103,
   "id": "264f9e6f",
   "metadata": {},
   "outputs": [],
   "source": [
    "if len(body) < 50:\n",
    "    print(\"Not enought words.\")"
   ]
  },
  {
   "cell_type": "code",
   "execution_count": 104,
   "id": "7f7dea5d",
   "metadata": {},
   "outputs": [],
   "source": [
    "sum_len = int(len(body)*0.1)"
   ]
  },
  {
   "cell_type": "code",
   "execution_count": 105,
   "id": "c8bd134a",
   "metadata": {},
   "outputs": [
    {
     "output_type": "stream",
     "name": "stdout",
     "text": [
      "1025 102\n"
     ]
    }
   ],
   "source": [
    "print(len(body), sum_len)"
   ]
  },
  {
   "cell_type": "code",
   "execution_count": 106,
   "id": "73450605",
   "metadata": {},
   "outputs": [],
   "source": [
    "# use bart in pytorch\n",
    "summarizer = pipeline(\"summarization\")\n",
    "summary = summarizer(body, min_length=5)"
   ]
  },
  {
   "cell_type": "code",
   "execution_count": 107,
   "id": "6212ab7b",
   "metadata": {},
   "outputs": [
    {
     "output_type": "execute_result",
     "data": {
      "text/plain": [
       "' Phileas Fogg was one of the most noticeable members of the Reform Club . People said he resembled Byron at least that his head was Byronic but he was a bearded tranquil Byron .'"
      ]
     },
     "metadata": {},
     "execution_count": 107
    }
   ],
   "source": [
    "summary[0]['summary_text']"
   ]
  },
  {
   "cell_type": "code",
   "execution_count": 15,
   "id": "3869b977",
   "metadata": {},
   "outputs": [],
   "source": [
    "def summary_output():\n",
    "    summary_result = []\n",
    "\n",
    "    for paragraph in paragraphs:\n",
    "        body = paragraph\n",
    "\n",
    "        # use bart in pytorch\n",
    "        summarizer = pipeline(\"summarization\")\n",
    "        summary = summarizer(body, min_length=5)\n",
    "        summary_result.append(summary[0]['summary_text'])\n",
    "\n",
    "        print(' '.join(summary_result))\n",
    "\n",
    "    summary_result = ' '.join(summary_result)\n",
    "    return summary_result"
   ]
  },
  {
   "cell_type": "code",
   "execution_count": 16,
   "metadata": {},
   "outputs": [
    {
     "output_type": "stream",
     "name": "stdout",
     "text": [
      " The Sixth District was once a Democratic stronghold until Phil Gramm switched party affiliations in 1983 turning the district into a reliable bastion of Republican strength .\n",
      "Your max_length is set to 142, but you input_length is only 137. You might consider decreasing max_length manually, e.g. summarizer('...', max_length=50)\n",
      " The Sixth District was once a Democratic stronghold until Phil Gramm switched party affiliations in 1983 turning the district into a reliable bastion of Republican strength .  Mayor of San Antonio Ron Nirenberg easily won a second term . Voters in Austin overwhelmingly favored reinstating a ban on public camping .\n"
     ]
    },
    {
     "output_type": "execute_result",
     "data": {
      "text/plain": [
       "' The Sixth District was once a Democratic stronghold until Phil Gramm switched party affiliations in 1983 turning the district into a reliable bastion of Republican strength .  Mayor of San Antonio Ron Nirenberg easily won a second term . Voters in Austin overwhelmingly favored reinstating a ban on public camping .'"
      ]
     },
     "metadata": {},
     "execution_count": 16
    }
   ],
   "source": [
    "summary_output()"
   ]
  },
  {
   "cell_type": "code",
   "execution_count": 122,
   "metadata": {},
   "outputs": [
    {
     "output_type": "execute_result",
     "data": {
      "text/plain": [
       "'But those who knew him best could not imagine how he had made his fortune and Mr. Fogg was the last person to whom to apply for the information. He was not lavish nor on the contrary avaricious for whenever he knew that money was needed for a noble useful or benevolent purpose he supplied it quietly and sometimes anonymously. He was in short the least communicative of men. He talked very little and seemed all the more mysterious for his taciturn manner. His daily habits were quite open to observation but whatever he did was so exactly the same thing that he had always done before that the wits of the curious were fairly puzzled. Had he travelled?'"
      ]
     },
     "metadata": {},
     "execution_count": 122
    }
   ],
   "source": [
    "paragraphs[2]"
   ]
  },
  {
   "cell_type": "code",
   "execution_count": 125,
   "metadata": {},
   "outputs": [],
   "source": [
    "result = '''\n",
    "Phileas Fogg was one of the most noticeable members of the Reform Club . People said he resembled Byron at least that his head was Byronic but he was a bearded tranquil Byron .  Phileas Fogg was a member of the Reform and that was all . He was recommended by the Barings with whom he had an open credit . His cheques were regularly paid at sight from his account current which was always flush .  Mr. Fogg was not lavish nor avaricious for whenever he knew that money was needed for a noble useful or benevolent purpose he supplied it quietly and sometimes anonymously . He talked very little and seemed all the more mysterious for his taciturn manner .  Phileas Fogg's sole pastime was reading the papers and playing whist . He often won at this game which as a silent one harmonised with his nature . His winnings never went into his purse being reserved as a fund for his charities .  Phileas Fogg was not known to have either wife or children which may happen to the most honest people either relatives or near friends . He breakfasted and dined at the club at hours mathematically fixed in the same room at the same table .\n",
    "'''"
   ]
  },
  {
   "cell_type": "code",
   "execution_count": 126,
   "metadata": {},
   "outputs": [
    {
     "output_type": "execute_result",
     "data": {
      "text/plain": [
       "1130"
      ]
     },
     "metadata": {},
     "execution_count": 126
    }
   ],
   "source": [
    "len(result)"
   ]
  },
  {
   "cell_type": "code",
   "execution_count": 123,
   "metadata": {},
   "outputs": [
    {
     "output_type": "execute_result",
     "data": {
      "text/plain": [
       "4092"
      ]
     },
     "metadata": {},
     "execution_count": 123
    }
   ],
   "source": [
    "len(paragraphs[2]+paragraphs[3]+paragraphs[4]+paragraphs[5]+paragraphs[6])"
   ]
  },
  {
   "cell_type": "code",
   "execution_count": null,
   "metadata": {},
   "outputs": [],
   "source": []
  },
  {
   "cell_type": "code",
   "execution_count": null,
   "metadata": {},
   "outputs": [],
   "source": [
    "summary = summary_output()"
   ]
  },
  {
   "cell_type": "code",
   "execution_count": 116,
   "metadata": {},
   "outputs": [
    {
     "output_type": "execute_result",
     "data": {
      "text/plain": [
       "[{'summary_text': ' Phileas Fogg was one of the most noticeable members of the Reform Club . People said he resembled Byron at least that his head was Byronic but he was a bearded tranquil Byron .'}]"
      ]
     },
     "metadata": {},
     "execution_count": 116
    }
   ],
   "source": [
    "summary"
   ]
  },
  {
   "cell_type": "code",
   "execution_count": 54,
   "id": "66eda784",
   "metadata": {},
   "outputs": [
    {
     "ename": "ImportError",
     "evalue": "\nPegasusForConditionalGeneration requires the PyTorch library but it was not found in your environment. Checkout the instructions on the\ninstallation page: https://pytorch.org/get-started/locally/ and follow the ones that match your environment.\n",
     "output_type": "error",
     "traceback": [
      "\u001b[1;31m---------------------------------------------------------------------------\u001b[0m",
      "\u001b[1;31mImportError\u001b[0m                               Traceback (most recent call last)",
      "\u001b[1;32m<ipython-input-54-7b1166557421>\u001b[0m in \u001b[0;36m<module>\u001b[1;34m\u001b[0m\n\u001b[0;32m      8\u001b[0m \u001b[0mdevice\u001b[0m \u001b[1;33m=\u001b[0m \u001b[1;34m'cuda'\u001b[0m \u001b[1;32mif\u001b[0m \u001b[0mtorch\u001b[0m\u001b[1;33m.\u001b[0m\u001b[0mcuda\u001b[0m\u001b[1;33m.\u001b[0m\u001b[0mis_available\u001b[0m\u001b[1;33m(\u001b[0m\u001b[1;33m)\u001b[0m \u001b[1;32melse\u001b[0m \u001b[1;34m'cpu'\u001b[0m\u001b[1;33m\u001b[0m\u001b[1;33m\u001b[0m\u001b[0m\n\u001b[0;32m      9\u001b[0m \u001b[0mtokenizer\u001b[0m \u001b[1;33m=\u001b[0m \u001b[0mPegasusTokenizer\u001b[0m\u001b[1;33m.\u001b[0m\u001b[0mfrom_pretrained\u001b[0m\u001b[1;33m(\u001b[0m\u001b[0mmodel_name\u001b[0m\u001b[1;33m)\u001b[0m\u001b[1;33m\u001b[0m\u001b[1;33m\u001b[0m\u001b[0m\n\u001b[1;32m---> 10\u001b[1;33m \u001b[0mmodel\u001b[0m \u001b[1;33m=\u001b[0m \u001b[0mPegasusForConditionalGeneration\u001b[0m\u001b[1;33m.\u001b[0m\u001b[0mfrom_pretrained\u001b[0m\u001b[1;33m(\u001b[0m\u001b[0mmodel_name\u001b[0m\u001b[1;33m)\u001b[0m\u001b[1;33m.\u001b[0m\u001b[0mto\u001b[0m\u001b[1;33m(\u001b[0m\u001b[0mdevice\u001b[0m\u001b[1;33m)\u001b[0m\u001b[1;33m\u001b[0m\u001b[1;33m\u001b[0m\u001b[0m\n\u001b[0m\u001b[0;32m     11\u001b[0m \u001b[0mbatch\u001b[0m \u001b[1;33m=\u001b[0m \u001b[0mtokenizer\u001b[0m\u001b[1;33m(\u001b[0m\u001b[0msrc_text\u001b[0m\u001b[1;33m,\u001b[0m \u001b[0mtruncation\u001b[0m\u001b[1;33m=\u001b[0m\u001b[1;32mTrue\u001b[0m\u001b[1;33m,\u001b[0m \u001b[0mpadding\u001b[0m\u001b[1;33m=\u001b[0m\u001b[1;34m'longest'\u001b[0m\u001b[1;33m,\u001b[0m \u001b[0mreturn_tensors\u001b[0m\u001b[1;33m=\u001b[0m\u001b[1;34m\"pt\"\u001b[0m\u001b[1;33m)\u001b[0m\u001b[1;33m.\u001b[0m\u001b[0mto\u001b[0m\u001b[1;33m(\u001b[0m\u001b[0mtorch_device\u001b[0m\u001b[1;33m)\u001b[0m\u001b[1;33m\u001b[0m\u001b[1;33m\u001b[0m\u001b[0m\n\u001b[0;32m     12\u001b[0m \u001b[0mtranslated\u001b[0m \u001b[1;33m=\u001b[0m \u001b[0mmodel\u001b[0m\u001b[1;33m.\u001b[0m\u001b[0mgenerate\u001b[0m\u001b[1;33m(\u001b[0m\u001b[1;33m**\u001b[0m\u001b[0mbatch\u001b[0m\u001b[1;33m)\u001b[0m\u001b[1;33m\u001b[0m\u001b[1;33m\u001b[0m\u001b[0m\n",
      "\u001b[1;32m~\\anaconda3\\envs\\NLP\\lib\\site-packages\\transformers\\utils\\dummy_pt_objects.py\u001b[0m in \u001b[0;36mfrom_pretrained\u001b[1;34m(self, *args, **kwargs)\u001b[0m\n\u001b[0;32m   2106\u001b[0m     \u001b[1;33m@\u001b[0m\u001b[0mclassmethod\u001b[0m\u001b[1;33m\u001b[0m\u001b[1;33m\u001b[0m\u001b[0m\n\u001b[0;32m   2107\u001b[0m     \u001b[1;32mdef\u001b[0m \u001b[0mfrom_pretrained\u001b[0m\u001b[1;33m(\u001b[0m\u001b[0mself\u001b[0m\u001b[1;33m,\u001b[0m \u001b[1;33m*\u001b[0m\u001b[0margs\u001b[0m\u001b[1;33m,\u001b[0m \u001b[1;33m**\u001b[0m\u001b[0mkwargs\u001b[0m\u001b[1;33m)\u001b[0m\u001b[1;33m:\u001b[0m\u001b[1;33m\u001b[0m\u001b[1;33m\u001b[0m\u001b[0m\n\u001b[1;32m-> 2108\u001b[1;33m         \u001b[0mrequires_pytorch\u001b[0m\u001b[1;33m(\u001b[0m\u001b[0mself\u001b[0m\u001b[1;33m)\u001b[0m\u001b[1;33m\u001b[0m\u001b[1;33m\u001b[0m\u001b[0m\n\u001b[0m\u001b[0;32m   2109\u001b[0m \u001b[1;33m\u001b[0m\u001b[0m\n\u001b[0;32m   2110\u001b[0m \u001b[1;33m\u001b[0m\u001b[0m\n",
      "\u001b[1;32m~\\anaconda3\\envs\\NLP\\lib\\site-packages\\transformers\\file_utils.py\u001b[0m in \u001b[0;36mrequires_pytorch\u001b[1;34m(obj)\u001b[0m\n\u001b[0;32m    536\u001b[0m     \u001b[0mname\u001b[0m \u001b[1;33m=\u001b[0m \u001b[0mobj\u001b[0m\u001b[1;33m.\u001b[0m\u001b[0m__name__\u001b[0m \u001b[1;32mif\u001b[0m \u001b[0mhasattr\u001b[0m\u001b[1;33m(\u001b[0m\u001b[0mobj\u001b[0m\u001b[1;33m,\u001b[0m \u001b[1;34m\"__name__\"\u001b[0m\u001b[1;33m)\u001b[0m \u001b[1;32melse\u001b[0m \u001b[0mobj\u001b[0m\u001b[1;33m.\u001b[0m\u001b[0m__class__\u001b[0m\u001b[1;33m.\u001b[0m\u001b[0m__name__\u001b[0m\u001b[1;33m\u001b[0m\u001b[1;33m\u001b[0m\u001b[0m\n\u001b[0;32m    537\u001b[0m     \u001b[1;32mif\u001b[0m \u001b[1;32mnot\u001b[0m \u001b[0mis_torch_available\u001b[0m\u001b[1;33m(\u001b[0m\u001b[1;33m)\u001b[0m\u001b[1;33m:\u001b[0m\u001b[1;33m\u001b[0m\u001b[1;33m\u001b[0m\u001b[0m\n\u001b[1;32m--> 538\u001b[1;33m         \u001b[1;32mraise\u001b[0m \u001b[0mImportError\u001b[0m\u001b[1;33m(\u001b[0m\u001b[0mPYTORCH_IMPORT_ERROR\u001b[0m\u001b[1;33m.\u001b[0m\u001b[0mformat\u001b[0m\u001b[1;33m(\u001b[0m\u001b[0mname\u001b[0m\u001b[1;33m)\u001b[0m\u001b[1;33m)\u001b[0m\u001b[1;33m\u001b[0m\u001b[1;33m\u001b[0m\u001b[0m\n\u001b[0m\u001b[0;32m    539\u001b[0m \u001b[1;33m\u001b[0m\u001b[0m\n\u001b[0;32m    540\u001b[0m \u001b[1;33m\u001b[0m\u001b[0m\n",
      "\u001b[1;31mImportError\u001b[0m: \nPegasusForConditionalGeneration requires the PyTorch library but it was not found in your environment. Checkout the instructions on the\ninstallation page: https://pytorch.org/get-started/locally/ and follow the ones that match your environment.\n"
     ]
    }
   ],
   "source": [
    "from transformers import PegasusForConditionalGeneration, PegasusTokenizer\n",
    "import torch\n",
    "src_text = [\n",
    "    \"\"\" PG&E stated it scheduled the blackouts in response to forecasts for high winds amid dry conditions. The aim is to reduce the risk of wildfires. Nearly 800 thousand customers were scheduled to be affected by the shutoffs which were expected to last through at least midday tomorrow.\"\"\"\n",
    "]\n",
    "\n",
    "model_name = 'google/pegasus-xsum'\n",
    "device = 'cuda' if torch.cuda.is_available() else 'cpu'\n",
    "tokenizer = PegasusTokenizer.from_pretrained(model_name)\n",
    "model = PegasusForConditionalGeneration.from_pretrained(model_name).to(device)\n",
    "batch = tokenizer(src_text, truncation=True, padding='longest', return_tensors=\"pt\").to(torch_device)\n",
    "translated = model.generate(**batch)\n",
    "tgt_text = tokenizer.batch_decode(translated, skip_special_tokens=True)\n",
    "assert tgt_text[0] == \"California's largest electricity provider has turned off power to hundreds of thousands of customers.\""
   ]
  },
  {
   "cell_type": "code",
   "execution_count": 1,
   "id": "f345e6d1",
   "metadata": {},
   "outputs": [
    {
     "output_type": "execute_result",
     "data": {
      "text/plain": [
       "[PhysicalDevice(name='/physical_device:CPU:0', device_type='CPU'),\n",
       " PhysicalDevice(name='/physical_device:GPU:0', device_type='GPU')]"
      ]
     },
     "metadata": {},
     "execution_count": 1
    }
   ],
   "source": [
    "import tensorflow as tf\n",
    "tf.config.list_physical_devices()"
   ]
  },
  {
   "cell_type": "code",
   "execution_count": 2,
   "id": "921e67c0",
   "metadata": {},
   "outputs": [
    {
     "output_type": "stream",
     "name": "stdout",
     "text": [
      "['/device:CPU:0', '/device:GPU:0']\n"
     ]
    }
   ],
   "source": [
    "from tensorflow.python.client import device_lib\n",
    "def get_available_devices():\n",
    "    local_device_protos = device_lib.list_local_devices()\n",
    "    return [x.name for x in local_device_protos]\n",
    "print(get_available_devices()) "
   ]
  },
  {
   "cell_type": "code",
   "execution_count": 6,
   "metadata": {},
   "outputs": [
    {
     "output_type": "stream",
     "name": "stdout",
     "text": [
      "3.8.8 | packaged by conda-forge | (default, Feb 20 2021, 15:50:08) [MSC v.1916 64 bit (AMD64)]\n2.4.1\n"
     ]
    }
   ],
   "source": [
    "import sys\n",
    "print (sys.version)\n",
    "import tensorflow as tf\n",
    "print(tf.__version__)"
   ]
  },
  {
   "cell_type": "code",
   "execution_count": 11,
   "id": "65cfdc8d",
   "metadata": {},
   "outputs": [],
   "source": [
    "import torch"
   ]
  },
  {
   "cell_type": "code",
   "execution_count": 90,
   "metadata": {},
   "outputs": [],
   "source": [
    "def clean_text(text):\n",
    "    # remove reference citation\n",
    "    text = re.sub(r'\\[[0-9]*\\]', ' ', text)\n",
    "    # Removing the @\n",
    "    text = re.sub(r\"@[A-Za-z0-9]+\", ' ', text)\n",
    "    # Removing the URL links\n",
    "    text = re.sub(r\"https?://[A-Za-z0-9./]+\", ' ', text)\n",
    "    # Keeping only letters and numbers\n",
    "    text = re.sub(r\"[^a-zA-Z0-9.!?']\", ' ', text)\n",
    "    # Removing additional whitespaces\n",
    "    text = re.sub(r\" +\", ' ', text)\n",
    "\n",
    "    return text"
   ]
  },
  {
   "cell_type": "code",
   "execution_count": 91,
   "metadata": {},
   "outputs": [],
   "source": [
    "import bs4 as bs\n",
    "import re\n",
    "text = open('book.txt', 'r').read()"
   ]
  },
  {
   "cell_type": "code",
   "execution_count": 93,
   "metadata": {},
   "outputs": [],
   "source": [
    "text = clean_text(text)\n",
    "sentences = nltk.sent_tokenize(text)"
   ]
  },
  {
   "cell_type": "code",
   "execution_count": 74,
   "metadata": {},
   "outputs": [],
   "source": [
    "text = clean_text(text)"
   ]
  },
  {
   "cell_type": "code",
   "execution_count": 108,
   "metadata": {
    "tags": []
   },
   "outputs": [
    {
     "output_type": "stream",
     "name": "stdout",
     "text": [
      "********** 1 **********\nParagraph length: 3487\nYou may copy it give it away or re use it under the terms of the Project Gutenberg License included with this eBook or online at www.gutenberg.org Title Around the World in 80 Days Author Jules Verne Release Date May 15 2008 EBook 103 Last updated February 18 2012 Last updated May 5 2012 Language English START OF THIS PROJECT GUTENBERG EBOOK AROUND THE WORLD IN 80 DAYS AROUND THE WORLD IN EIGHTY DAYS CONTENTS CHAPTER I IN WHICH PHILEAS FOGG AND PASSEPARTOUT ACCEPT EACH OTHER THE ONE AS MASTER THE OTHER AS MAN II IN WHICH PASSEPARTOUT IS CONVINCED THAT HE HAS AT LAST FOUND HIS IDEAL III IN WHICH A CONVERSATION TAKES PLACE WHICH SEEMS LIKELY TO COST PHILEAS FOGG DEAR IV IN WHICH PHILEAS FOGG ASTOUNDS PASSEPARTOUT HIS SERVANT V IN WHICH A NEW SPECIES OF FUNDS UNKNOWN TO THE MONEYED MEN APPEARS ON 'CHANGE VI IN WHICH FIX THE DETECTIVE BETRAYS A VERY NATURAL IMPATIENCE VII WHICH ONCE MORE DEMONSTRATES THE USELESSNESS OF PASSPORTS AS AIDS TO dETECTIVES VIII IN WHICH PASSEPARTOUT TALKS RATHER MORE PERHAPS THAN IS PRUDENT IX IN WHICH THE RED SEA AND THE INDIAN OCEAN PROVE PROPITIOUS TO THE DESIGNS OF PHILEAS FOGG X IN WHICH PASSEPARTOUT IS ONLY TOO GLAD TO GET OFF WITH THE LOSS OF HIS SHOES XI IN WHICH PHILEAS FOGG SECURES A CURIOUS MEANS OF CONVEYANCE AT A FABULOUS PRICE XII IN WHICH PHILEAS FOGG AND HIS COMPANIONS VENTURE ACROSS THE INDIAN FORESTS AND WHAT ENSUED XIII IN WHICH PASSEPARTOUT RECEIVES A NEW PROOF THAT FORTUNE FAVORS THE BRAVE XIV IN WHICH PHILEAS FOGG DESCENDS THE WHOLE LENGTH OF THE BEAUTIFUL VALLEY OF THE GANGES WITHOUT EVER THINKING OF SEEING IT XV IN WHICH THE BAG OF BANKNOTES DISGORGES SOME THOUSANDS OF POUNDS MORE XVI IN WHICH FIX DOES NOT SEEM TO UNDERSTAND IN THE LEAST WHAT IS SAID TO HIM XVII SHOWING WHAT HAPPENED ON THE VOYAGE FROM SINGAPORE TO HONG KONG XVIII IN WHICH PHILEAS FOGG PASSEPARTOUT AND FIX GO EACH ABOUT HIS BUSINESS XIX IN WHICH PASSEPARTOUT TAKES A TOO GREAT INTEREST IN HIS MASTER AND WHAT COMES OF IT XX IN WHICH FIX COMES FACE TO FACE WITH PHILEAS FOGG XXI IN WHICH THE MASTER OF THE TANKADERE RUNS GREAT RISK OF LOSING A REWARD OF TWO HUNDRED POUNDS XXII IN WHICH PASSEPARTOUT FINDS OUT THAT EVEN AT THE ANTIPODES IT IS CONVENIENT TO HAVE SOME MONEY IN ONE'S POCKET XXIII IN WHICH PASSEPARTOUT'S NOSE BECOMES OUTRAGEOUSLY LONG XXIV DURING WHICH MR. FOGG AND PARTY CROSS THE PACIFIC OCEAN XXV IN WHICH A SLIGHT GLIMPSE IS HAD OF SAN FRANCISCO XXVI IN WHICH PHILEAS FOGG AND PARTY TRAVEL BY THE PACIFIC RAILROAD XXVII IN WHICH PASSEPARTOUT UNDERGOES AT A SPEED OF TWENTY MILES AN HOUR A COURSE OF MORMON HISTORY XXVIII IN WHICH PASSEPARTOUT DOES NOT SUCCEED IN MAKING ANYBODY LISTEN TO REASON XXIX IN WHICH CERTAIN INCIDENTS ARE NARRATED WHICH ARE ONLY TO BE MET WITH ON AMERICAN RAILROADS XXX IN WHICH PHILEAS FOGG SIMPLY DOES HIS DUTY XXXI IN WHICH FIX THE DETECTIVE CONSIDERABLY FURTHERS THE INTERESTS OF PHILEAS FOGG XXXII IN WHICH PHILEAS FOGG ENGAGES IN A DIRECT STRUGGLE WITH BAD FORTUNE XXXIII IN WHICH PHILEAS FOGG SHOWS HIMSELF EQUAL TO THE OCCASION XXXIV IN WHICH PHILEAS FOGG AT LAST REACHES LONDON XXXV IN WHICH PHILEAS FOGG DOES NOT HAVE TO REPEAT HIS ORDERS TO PASSEPARTOUT TWICE XXXVI IN WHICH PHILEAS FOGG'S NAME IS ONCE MORE AT A PREMIUM ON 'CHANGE XXXVII IN WHICH IT IS SHOWN THAT PHILEAS FOGG GAINED NOTHING BY HIS TOUR AROUND THE WORLD UNLESS IT WERE HAPPINESS Chapter I IN WHICH PHILEAS FOGG AND PASSEPARTOUT ACCEPT EACH OTHER THE ONE AS MASTER THE OTHER AS MAN Mr. Phileas Fogg lived in 1872 at No.\n"
     ]
    }
   ],
   "source": [
    "sentences = nltk.sent_tokenize(text)\n",
    "\n",
    "sentence_limit = 6\n",
    "sentence_batch_lst = []\n",
    "sentence_batch = []\n",
    "sentence_limit = 1000\n",
    "# If book drop main two sentences that mostly contain acknowledgement and others\n",
    "for sentence in sentences[2:]:\n",
    "    if len(sentences[i]) > sentence_limit:\n",
    "        continue\n",
    "\n",
    "    if len(sentence_batch)==sentence_limit:\n",
    "        sentence_batch_lst.append(' '.join(sentence_batch))\n",
    "        sentence_batch = []\n",
    "    else:\n",
    "        sentence_batch.append(sentence)"
   ]
  },
  {
   "cell_type": "code",
   "execution_count": 101,
   "metadata": {},
   "outputs": [
    {
     "output_type": "execute_result",
     "data": {
      "text/plain": [
       "\"He was never seen on 'Change nor at the Bank nor in the counting rooms of the City no ships ever came into London docks of which he was the owner he had no public employment he had never been entered at any of the Inns of Court either at the Temple or Lincoln's Inn or Gray's Inn nor had his voice ever resounded in the Court of Chancery or in the Exchequer or the Queen's Bench or the Ecclesiastical Courts.\""
      ]
     },
     "metadata": {},
     "execution_count": 101
    }
   ],
   "source": [
    "sentences[6]"
   ]
  },
  {
   "cell_type": "code",
   "execution_count": null,
   "metadata": {},
   "outputs": [],
   "source": []
  },
  {
   "cell_type": "code",
   "execution_count": 56,
   "metadata": {},
   "outputs": [
    {
     "output_type": "execute_result",
     "data": {
      "text/plain": [
       "398635"
      ]
     },
     "metadata": {},
     "execution_count": 56
    }
   ],
   "source": [
    "len(text_read)"
   ]
  },
  {
   "cell_type": "code",
   "execution_count": 49,
   "metadata": {},
   "outputs": [
    {
     "output_type": "execute_result",
     "data": {
      "text/plain": [
       "398637"
      ]
     },
     "metadata": {},
     "execution_count": 49
    }
   ],
   "source": [
    "len(text)"
   ]
  }
 ],
 "metadata": {
  "kernelspec": {
   "name": "python388jvsc74a57bd06f0105f9397998aabf0bf1920609558408ae3734a3428bdac0deeef582aa0c0a",
   "display_name": "Python 3.8.8 64-bit ('NLP': conda)"
  },
  "language_info": {
   "codemirror_mode": {
    "name": "ipython",
    "version": 3
   },
   "file_extension": ".py",
   "mimetype": "text/x-python",
   "name": "python",
   "nbconvert_exporter": "python",
   "pygments_lexer": "ipython3",
   "version": "3.8.8"
  }
 },
 "nbformat": 4,
 "nbformat_minor": 5
}