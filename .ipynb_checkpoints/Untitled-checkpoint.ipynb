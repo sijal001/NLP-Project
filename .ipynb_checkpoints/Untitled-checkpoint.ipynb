{
 "cells": [
  {
   "cell_type": "code",
   "execution_count": 1,
   "id": "f40a508e",
   "metadata": {},
   "outputs": [],
   "source": [
    "from transformers import pipeline, AutoModelForTokenClassification, AutoTokenizer"
   ]
  },
  {
   "cell_type": "code",
   "execution_count": 16,
   "id": "211ab3a1",
   "metadata": {},
   "outputs": [],
   "source": [
    "body='''\n",
    "Ripple CEO Brad Garlinghouse said the lack of clarity in U.S. regulation of cryptocurrencies is “frustrating.”\n",
    "Known for the cryptocurrency XRP, the fintech company has been caught in a high-stakes legal tussle with the U.S. Securities and Exchange Commission since last year.\n",
    "In December, the SEC filed charges against the firm, Garlinghouse and a Ripple co-founder, alleging they raised more than $1.3 billion through an unregistered securities offering.\n",
    "\n",
    "'''"
   ]
  },
  {
   "cell_type": "code",
   "execution_count": 29,
   "id": "667a323a",
   "metadata": {},
   "outputs": [
    {
     "data": {
      "text/plain": [
       "459"
      ]
     },
     "execution_count": 29,
     "metadata": {},
     "output_type": "execute_result"
    }
   ],
   "source": [
    "if len(body) < 50:\n",
    "    print(\"not enought words.\")"
   ]
  },
  {
   "cell_type": "code",
   "execution_count": 17,
   "id": "74b5bf5a",
   "metadata": {},
   "outputs": [],
   "source": [
    "sum_len = int(len(body)*0.1)"
   ]
  },
  {
   "cell_type": "code",
   "execution_count": 24,
   "id": "0e15d0ab",
   "metadata": {},
   "outputs": [
    {
     "name": "stderr",
     "output_type": "stream",
     "text": [
      "All model checkpoint layers were used when initializing TFT5ForConditionalGeneration.\n",
      "\n",
      "All the layers of TFT5ForConditionalGeneration were initialized from the model checkpoint at t5-small.\n",
      "If your task is similar to the task the model of the checkpoint was trained on, you can already use TFT5ForConditionalGeneration for predictions without further training.\n",
      "Your max_length is set to 200, but you input_length is only 119. You might consider decreasing max_length manually, e.g. summarizer('...', max_length=50)\n"
     ]
    }
   ],
   "source": [
    "# use bart in pytorch\n",
    "summarizer = pipeline(\"summarization\")\n",
    "summary = summarizer(body, min_length=5)"
   ]
  },
  {
   "cell_type": "code",
   "execution_count": 28,
   "id": "52d5342a",
   "metadata": {},
   "outputs": [
    {
     "data": {
      "text/plain": [
       "'XRP has been caught in a high-stakes legal tussle with the u.s. Securities and Exchange Commission . in December, the SEC filed charges against the firm, Garlinghouse and a Ripple co-founder .'"
      ]
     },
     "execution_count": 28,
     "metadata": {},
     "output_type": "execute_result"
    }
   ],
   "source": [
    "summary[0]['summary_text']"
   ]
  }
 ],
 "metadata": {
  "kernelspec": {
   "display_name": "Python 3",
   "language": "python",
   "name": "python3"
  },
  "language_info": {
   "codemirror_mode": {
    "name": "ipython",
    "version": 3
   },
   "file_extension": ".py",
   "mimetype": "text/x-python",
   "name": "python",
   "nbconvert_exporter": "python",
   "pygments_lexer": "ipython3",
   "version": "3.8.8"
  }
 },
 "nbformat": 4,
 "nbformat_minor": 5
}
